{
 "cells": [
  {
   "cell_type": "code",
   "execution_count": 26,
   "id": "9b8058ea",
   "metadata": {},
   "outputs": [],
   "source": [
    "import tensorflow as tf\n",
    "from tensorflow import keras\n",
    "import numpy as np\n",
    "from sklearn.utils import shuffle\n",
    "from sklearn.metrics import confusion_matrix\n",
    "from sklearn.metrics import accuracy_score\n",
    "from sklearn.metrics import classification_report\n",
    "from sklearn.metrics import f1_score"
   ]
  },
  {
   "cell_type": "code",
   "execution_count": 27,
   "id": "d41c17a4",
   "metadata": {},
   "outputs": [
    {
     "name": "stdout",
     "output_type": "stream",
     "text": [
      "Found 5121 files belonging to 4 classes.\n"
     ]
    }
   ],
   "source": [
    "train_ds = keras.utils.image_dataset_from_directory(\n",
    "    directory='Alzheimer_s Dataset/train',\n",
    "    labels='inferred',\n",
    "    label_mode='categorical',\n",
    "    batch_size=32,\n",
    "    image_size=(256, 256))"
   ]
  },
  {
   "cell_type": "code",
   "execution_count": 28,
   "id": "a0c0327e",
   "metadata": {},
   "outputs": [
    {
     "name": "stdout",
     "output_type": "stream",
     "text": [
      "Found 1279 files belonging to 4 classes.\n"
     ]
    }
   ],
   "source": [
    "test_ds = keras.utils.image_dataset_from_directory(\n",
    "    directory = 'Alzheimer_s Dataset/test',\n",
    "    labels = 'inferred',\n",
    "    label_mode = 'categorical',\n",
    "    batch_size = 32,\n",
    "    image_size = (256, 256)\n",
    "    )"
   ]
  },
  {
   "cell_type": "code",
   "execution_count": 29,
   "id": "d43bc401",
   "metadata": {},
   "outputs": [
    {
     "name": "stdout",
     "output_type": "stream",
     "text": [
      "Summary of the training dataset :  <BatchDataset element_spec=(TensorSpec(shape=(None, 256, 256, 3), dtype=tf.float32, name=None), TensorSpec(shape=(None, 4), dtype=tf.float32, name=None))>\n",
      "Summary of the test dataset :  <BatchDataset element_spec=(TensorSpec(shape=(None, 256, 256, 3), dtype=tf.float32, name=None), TensorSpec(shape=(None, 4), dtype=tf.float32, name=None))>\n"
     ]
    }
   ],
   "source": [
    "print(\"Summary of the training dataset : \", train_ds)\n",
    "print(\"Summary of the test dataset : \", test_ds)"
   ]
  },
  {
   "cell_type": "code",
   "execution_count": 30,
   "id": "bdecf1ee",
   "metadata": {},
   "outputs": [
    {
     "name": "stdout",
     "output_type": "stream",
     "text": [
      "Model: \"vgg16\"\n",
      "_________________________________________________________________\n",
      " Layer (type)                Output Shape              Param #   \n",
      "=================================================================\n",
      " input_5 (InputLayer)        [(None, 256, 256, 3)]     0         \n",
      "                                                                 \n",
      " block1_conv1 (Conv2D)       (None, 256, 256, 64)      1792      \n",
      "                                                                 \n",
      " block1_conv2 (Conv2D)       (None, 256, 256, 64)      36928     \n",
      "                                                                 \n",
      " block1_pool (MaxPooling2D)  (None, 128, 128, 64)      0         \n",
      "                                                                 \n",
      " block2_conv1 (Conv2D)       (None, 128, 128, 128)     73856     \n",
      "                                                                 \n",
      " block2_conv2 (Conv2D)       (None, 128, 128, 128)     147584    \n",
      "                                                                 \n",
      " block2_pool (MaxPooling2D)  (None, 64, 64, 128)       0         \n",
      "                                                                 \n",
      " block3_conv1 (Conv2D)       (None, 64, 64, 256)       295168    \n",
      "                                                                 \n",
      " block3_conv2 (Conv2D)       (None, 64, 64, 256)       590080    \n",
      "                                                                 \n",
      " block3_conv3 (Conv2D)       (None, 64, 64, 256)       590080    \n",
      "                                                                 \n",
      " block3_pool (MaxPooling2D)  (None, 32, 32, 256)       0         \n",
      "                                                                 \n",
      " block4_conv1 (Conv2D)       (None, 32, 32, 512)       1180160   \n",
      "                                                                 \n",
      " block4_conv2 (Conv2D)       (None, 32, 32, 512)       2359808   \n",
      "                                                                 \n",
      " block4_conv3 (Conv2D)       (None, 32, 32, 512)       2359808   \n",
      "                                                                 \n",
      " block4_pool (MaxPooling2D)  (None, 16, 16, 512)       0         \n",
      "                                                                 \n",
      " block5_conv1 (Conv2D)       (None, 16, 16, 512)       2359808   \n",
      "                                                                 \n",
      " block5_conv2 (Conv2D)       (None, 16, 16, 512)       2359808   \n",
      "                                                                 \n",
      " block5_conv3 (Conv2D)       (None, 16, 16, 512)       2359808   \n",
      "                                                                 \n",
      " block5_pool (MaxPooling2D)  (None, 8, 8, 512)         0         \n",
      "                                                                 \n",
      " global_max_pooling2d_1 (Glo  (None, 512)              0         \n",
      " balMaxPooling2D)                                                \n",
      "                                                                 \n",
      "=================================================================\n",
      "Total params: 14,714,688\n",
      "Trainable params: 14,714,688\n",
      "Non-trainable params: 0\n",
      "_________________________________________________________________\n"
     ]
    }
   ],
   "source": [
    "from keras.applications.vgg16 import VGG16\n",
    "VGG = VGG16(include_top=False, input_shape=(256,256,3),pooling='max')    \n",
    "\n",
    "VGG.summary()"
   ]
  },
  {
   "cell_type": "code",
   "execution_count": 31,
   "id": "d3d561c0",
   "metadata": {},
   "outputs": [
    {
     "name": "stdout",
     "output_type": "stream",
     "text": [
      "Model: \"sequential_3\"\n",
      "_________________________________________________________________\n",
      " Layer (type)                Output Shape              Param #   \n",
      "=================================================================\n",
      " vgg16 (Functional)          (None, 512)               14714688  \n",
      "                                                                 \n",
      " flatten_3 (Flatten)         (None, 512)               0         \n",
      "                                                                 \n",
      " dense_12 (Dense)            (None, 512)               262656    \n",
      "                                                                 \n",
      " dense_13 (Dense)            (None, 128)               65664     \n",
      "                                                                 \n",
      " dense_14 (Dense)            (None, 32)                4128      \n",
      "                                                                 \n",
      " dense_15 (Dense)            (None, 4)                 132       \n",
      "                                                                 \n",
      "=================================================================\n",
      "Total params: 15,047,268\n",
      "Trainable params: 332,580\n",
      "Non-trainable params: 14,714,688\n",
      "_________________________________________________________________\n"
     ]
    }
   ],
   "source": [
    "from tensorflow.keras import models, layers\n",
    "from tensorflow.keras.models import Sequential\n",
    "from tensorflow.keras.layers import Flatten, Dense\n",
    "model = keras.models.Sequential()\n",
    "\n",
    "for layer in VGG.layers:\n",
    "    layer.trainable=False\n",
    "    \n",
    "model.add(VGG)\n",
    "model.add(Flatten())\n",
    "model.add(Dense(512,activation='relu',kernel_initializer='he_uniform'))\n",
    "model.add(Dense(128,activation='relu',kernel_initializer='he_uniform'))\n",
    "model.add(Dense(32,activation='relu',kernel_initializer='he_uniform'))\n",
    "model.add(Dense(4,activation='softmax'))\n",
    "model.summary()"
   ]
  },
  {
   "cell_type": "code",
   "execution_count": 32,
   "id": "bc7742cd",
   "metadata": {},
   "outputs": [],
   "source": [
    "METRICS = [\n",
    "      tf.keras.metrics.BinaryAccuracy(name='accuracy'),\n",
    "      tf.keras.metrics.Precision(name='precision'),\n",
    "      tf.keras.metrics.Recall(name='recall'),  \n",
    "      tf.keras.metrics.AUC(name='auc')\n",
    "]"
   ]
  },
  {
   "cell_type": "code",
   "execution_count": 34,
   "id": "ad219817",
   "metadata": {},
   "outputs": [],
   "source": [
    "model.compile(optimizer=tf.keras.optimizers.Adam(learning_rate=1e-3),\n",
    "              loss=tf.keras.losses.CategoricalCrossentropy(),\n",
    "              metrics=METRICS)"
   ]
  },
  {
   "cell_type": "code",
   "execution_count": 36,
   "id": "eedff412",
   "metadata": {},
   "outputs": [
    {
     "name": "stdout",
     "output_type": "stream",
     "text": [
      "Epoch 1/30\n",
      "161/161 [==============================] - 54s 330ms/step - loss: 0.1904 - accuracy: 0.9643 - precision: 0.9323 - recall: 0.9244 - auc: 0.9927\n",
      "Epoch 2/30\n",
      "161/161 [==============================] - 54s 334ms/step - loss: 0.1140 - accuracy: 0.9798 - precision: 0.9617 - recall: 0.9574 - auc: 0.9973\n",
      "Epoch 3/30\n",
      "161/161 [==============================] - 53s 331ms/step - loss: 0.0923 - accuracy: 0.9834 - precision: 0.9681 - recall: 0.9652 - auc: 0.9982\n",
      "Epoch 4/30\n",
      " 73/161 [============>.................] - ETA: 29s - loss: 0.5099 - accuracy: 0.9195 - precision: 0.8420 - recall: 0.8348 - auc: 0.9643"
     ]
    },
    {
     "ename": "KeyboardInterrupt",
     "evalue": "",
     "output_type": "error",
     "traceback": [
      "\u001b[1;31m---------------------------------------------------------------------------\u001b[0m",
      "\u001b[1;31mKeyboardInterrupt\u001b[0m                         Traceback (most recent call last)",
      "Input \u001b[1;32mIn [36]\u001b[0m, in \u001b[0;36m<cell line: 1>\u001b[1;34m()\u001b[0m\n\u001b[1;32m----> 1\u001b[0m \u001b[43mmodel\u001b[49m\u001b[38;5;241;43m.\u001b[39;49m\u001b[43mfit\u001b[49m\u001b[43m(\u001b[49m\u001b[43mtrain_ds\u001b[49m\u001b[43m,\u001b[49m\u001b[43m \u001b[49m\u001b[43mepochs\u001b[49m\u001b[38;5;241;43m=\u001b[39;49m\u001b[38;5;241;43m30\u001b[39;49m\u001b[43m)\u001b[49m\n",
      "File \u001b[1;32m~\\anaconda3\\lib\\site-packages\\keras\\utils\\traceback_utils.py:65\u001b[0m, in \u001b[0;36mfilter_traceback.<locals>.error_handler\u001b[1;34m(*args, **kwargs)\u001b[0m\n\u001b[0;32m     63\u001b[0m filtered_tb \u001b[38;5;241m=\u001b[39m \u001b[38;5;28;01mNone\u001b[39;00m\n\u001b[0;32m     64\u001b[0m \u001b[38;5;28;01mtry\u001b[39;00m:\n\u001b[1;32m---> 65\u001b[0m     \u001b[38;5;28;01mreturn\u001b[39;00m fn(\u001b[38;5;241m*\u001b[39margs, \u001b[38;5;241m*\u001b[39m\u001b[38;5;241m*\u001b[39mkwargs)\n\u001b[0;32m     66\u001b[0m \u001b[38;5;28;01mexcept\u001b[39;00m \u001b[38;5;167;01mException\u001b[39;00m \u001b[38;5;28;01mas\u001b[39;00m e:\n\u001b[0;32m     67\u001b[0m     filtered_tb \u001b[38;5;241m=\u001b[39m _process_traceback_frames(e\u001b[38;5;241m.\u001b[39m__traceback__)\n",
      "File \u001b[1;32m~\\anaconda3\\lib\\site-packages\\keras\\engine\\training.py:1564\u001b[0m, in \u001b[0;36mModel.fit\u001b[1;34m(self, x, y, batch_size, epochs, verbose, callbacks, validation_split, validation_data, shuffle, class_weight, sample_weight, initial_epoch, steps_per_epoch, validation_steps, validation_batch_size, validation_freq, max_queue_size, workers, use_multiprocessing)\u001b[0m\n\u001b[0;32m   1556\u001b[0m \u001b[38;5;28;01mwith\u001b[39;00m tf\u001b[38;5;241m.\u001b[39mprofiler\u001b[38;5;241m.\u001b[39mexperimental\u001b[38;5;241m.\u001b[39mTrace(\n\u001b[0;32m   1557\u001b[0m     \u001b[38;5;124m\"\u001b[39m\u001b[38;5;124mtrain\u001b[39m\u001b[38;5;124m\"\u001b[39m,\n\u001b[0;32m   1558\u001b[0m     epoch_num\u001b[38;5;241m=\u001b[39mepoch,\n\u001b[1;32m   (...)\u001b[0m\n\u001b[0;32m   1561\u001b[0m     _r\u001b[38;5;241m=\u001b[39m\u001b[38;5;241m1\u001b[39m,\n\u001b[0;32m   1562\u001b[0m ):\n\u001b[0;32m   1563\u001b[0m     callbacks\u001b[38;5;241m.\u001b[39mon_train_batch_begin(step)\n\u001b[1;32m-> 1564\u001b[0m     tmp_logs \u001b[38;5;241m=\u001b[39m \u001b[38;5;28;43mself\u001b[39;49m\u001b[38;5;241;43m.\u001b[39;49m\u001b[43mtrain_function\u001b[49m\u001b[43m(\u001b[49m\u001b[43miterator\u001b[49m\u001b[43m)\u001b[49m\n\u001b[0;32m   1565\u001b[0m     \u001b[38;5;28;01mif\u001b[39;00m data_handler\u001b[38;5;241m.\u001b[39mshould_sync:\n\u001b[0;32m   1566\u001b[0m         context\u001b[38;5;241m.\u001b[39masync_wait()\n",
      "File \u001b[1;32m~\\anaconda3\\lib\\site-packages\\tensorflow\\python\\util\\traceback_utils.py:150\u001b[0m, in \u001b[0;36mfilter_traceback.<locals>.error_handler\u001b[1;34m(*args, **kwargs)\u001b[0m\n\u001b[0;32m    148\u001b[0m filtered_tb \u001b[38;5;241m=\u001b[39m \u001b[38;5;28;01mNone\u001b[39;00m\n\u001b[0;32m    149\u001b[0m \u001b[38;5;28;01mtry\u001b[39;00m:\n\u001b[1;32m--> 150\u001b[0m   \u001b[38;5;28;01mreturn\u001b[39;00m fn(\u001b[38;5;241m*\u001b[39margs, \u001b[38;5;241m*\u001b[39m\u001b[38;5;241m*\u001b[39mkwargs)\n\u001b[0;32m    151\u001b[0m \u001b[38;5;28;01mexcept\u001b[39;00m \u001b[38;5;167;01mException\u001b[39;00m \u001b[38;5;28;01mas\u001b[39;00m e:\n\u001b[0;32m    152\u001b[0m   filtered_tb \u001b[38;5;241m=\u001b[39m _process_traceback_frames(e\u001b[38;5;241m.\u001b[39m__traceback__)\n",
      "File \u001b[1;32m~\\anaconda3\\lib\\site-packages\\tensorflow\\python\\eager\\def_function.py:915\u001b[0m, in \u001b[0;36mFunction.__call__\u001b[1;34m(self, *args, **kwds)\u001b[0m\n\u001b[0;32m    912\u001b[0m compiler \u001b[38;5;241m=\u001b[39m \u001b[38;5;124m\"\u001b[39m\u001b[38;5;124mxla\u001b[39m\u001b[38;5;124m\"\u001b[39m \u001b[38;5;28;01mif\u001b[39;00m \u001b[38;5;28mself\u001b[39m\u001b[38;5;241m.\u001b[39m_jit_compile \u001b[38;5;28;01melse\u001b[39;00m \u001b[38;5;124m\"\u001b[39m\u001b[38;5;124mnonXla\u001b[39m\u001b[38;5;124m\"\u001b[39m\n\u001b[0;32m    914\u001b[0m \u001b[38;5;28;01mwith\u001b[39;00m OptionalXlaContext(\u001b[38;5;28mself\u001b[39m\u001b[38;5;241m.\u001b[39m_jit_compile):\n\u001b[1;32m--> 915\u001b[0m   result \u001b[38;5;241m=\u001b[39m \u001b[38;5;28mself\u001b[39m\u001b[38;5;241m.\u001b[39m_call(\u001b[38;5;241m*\u001b[39margs, \u001b[38;5;241m*\u001b[39m\u001b[38;5;241m*\u001b[39mkwds)\n\u001b[0;32m    917\u001b[0m new_tracing_count \u001b[38;5;241m=\u001b[39m \u001b[38;5;28mself\u001b[39m\u001b[38;5;241m.\u001b[39mexperimental_get_tracing_count()\n\u001b[0;32m    918\u001b[0m without_tracing \u001b[38;5;241m=\u001b[39m (tracing_count \u001b[38;5;241m==\u001b[39m new_tracing_count)\n",
      "File \u001b[1;32m~\\anaconda3\\lib\\site-packages\\tensorflow\\python\\eager\\def_function.py:947\u001b[0m, in \u001b[0;36mFunction._call\u001b[1;34m(self, *args, **kwds)\u001b[0m\n\u001b[0;32m    944\u001b[0m   \u001b[38;5;28mself\u001b[39m\u001b[38;5;241m.\u001b[39m_lock\u001b[38;5;241m.\u001b[39mrelease()\n\u001b[0;32m    945\u001b[0m   \u001b[38;5;66;03m# In this case we have created variables on the first call, so we run the\u001b[39;00m\n\u001b[0;32m    946\u001b[0m   \u001b[38;5;66;03m# defunned version which is guaranteed to never create variables.\u001b[39;00m\n\u001b[1;32m--> 947\u001b[0m   \u001b[38;5;28;01mreturn\u001b[39;00m \u001b[38;5;28mself\u001b[39m\u001b[38;5;241m.\u001b[39m_stateless_fn(\u001b[38;5;241m*\u001b[39margs, \u001b[38;5;241m*\u001b[39m\u001b[38;5;241m*\u001b[39mkwds)  \u001b[38;5;66;03m# pylint: disable=not-callable\u001b[39;00m\n\u001b[0;32m    948\u001b[0m \u001b[38;5;28;01melif\u001b[39;00m \u001b[38;5;28mself\u001b[39m\u001b[38;5;241m.\u001b[39m_stateful_fn \u001b[38;5;129;01mis\u001b[39;00m \u001b[38;5;129;01mnot\u001b[39;00m \u001b[38;5;28;01mNone\u001b[39;00m:\n\u001b[0;32m    949\u001b[0m   \u001b[38;5;66;03m# Release the lock early so that multiple threads can perform the call\u001b[39;00m\n\u001b[0;32m    950\u001b[0m   \u001b[38;5;66;03m# in parallel.\u001b[39;00m\n\u001b[0;32m    951\u001b[0m   \u001b[38;5;28mself\u001b[39m\u001b[38;5;241m.\u001b[39m_lock\u001b[38;5;241m.\u001b[39mrelease()\n",
      "File \u001b[1;32m~\\anaconda3\\lib\\site-packages\\tensorflow\\python\\eager\\function.py:2496\u001b[0m, in \u001b[0;36mFunction.__call__\u001b[1;34m(self, *args, **kwargs)\u001b[0m\n\u001b[0;32m   2493\u001b[0m \u001b[38;5;28;01mwith\u001b[39;00m \u001b[38;5;28mself\u001b[39m\u001b[38;5;241m.\u001b[39m_lock:\n\u001b[0;32m   2494\u001b[0m   (graph_function,\n\u001b[0;32m   2495\u001b[0m    filtered_flat_args) \u001b[38;5;241m=\u001b[39m \u001b[38;5;28mself\u001b[39m\u001b[38;5;241m.\u001b[39m_maybe_define_function(args, kwargs)\n\u001b[1;32m-> 2496\u001b[0m \u001b[38;5;28;01mreturn\u001b[39;00m \u001b[43mgraph_function\u001b[49m\u001b[38;5;241;43m.\u001b[39;49m\u001b[43m_call_flat\u001b[49m\u001b[43m(\u001b[49m\n\u001b[0;32m   2497\u001b[0m \u001b[43m    \u001b[49m\u001b[43mfiltered_flat_args\u001b[49m\u001b[43m,\u001b[49m\u001b[43m \u001b[49m\u001b[43mcaptured_inputs\u001b[49m\u001b[38;5;241;43m=\u001b[39;49m\u001b[43mgraph_function\u001b[49m\u001b[38;5;241;43m.\u001b[39;49m\u001b[43mcaptured_inputs\u001b[49m\u001b[43m)\u001b[49m\n",
      "File \u001b[1;32m~\\anaconda3\\lib\\site-packages\\tensorflow\\python\\eager\\function.py:1862\u001b[0m, in \u001b[0;36mConcreteFunction._call_flat\u001b[1;34m(self, args, captured_inputs, cancellation_manager)\u001b[0m\n\u001b[0;32m   1858\u001b[0m possible_gradient_type \u001b[38;5;241m=\u001b[39m gradients_util\u001b[38;5;241m.\u001b[39mPossibleTapeGradientTypes(args)\n\u001b[0;32m   1859\u001b[0m \u001b[38;5;28;01mif\u001b[39;00m (possible_gradient_type \u001b[38;5;241m==\u001b[39m gradients_util\u001b[38;5;241m.\u001b[39mPOSSIBLE_GRADIENT_TYPES_NONE\n\u001b[0;32m   1860\u001b[0m     \u001b[38;5;129;01mand\u001b[39;00m executing_eagerly):\n\u001b[0;32m   1861\u001b[0m   \u001b[38;5;66;03m# No tape is watching; skip to running the function.\u001b[39;00m\n\u001b[1;32m-> 1862\u001b[0m   \u001b[38;5;28;01mreturn\u001b[39;00m \u001b[38;5;28mself\u001b[39m\u001b[38;5;241m.\u001b[39m_build_call_outputs(\u001b[38;5;28;43mself\u001b[39;49m\u001b[38;5;241;43m.\u001b[39;49m\u001b[43m_inference_function\u001b[49m\u001b[38;5;241;43m.\u001b[39;49m\u001b[43mcall\u001b[49m\u001b[43m(\u001b[49m\n\u001b[0;32m   1863\u001b[0m \u001b[43m      \u001b[49m\u001b[43mctx\u001b[49m\u001b[43m,\u001b[49m\u001b[43m \u001b[49m\u001b[43margs\u001b[49m\u001b[43m,\u001b[49m\u001b[43m \u001b[49m\u001b[43mcancellation_manager\u001b[49m\u001b[38;5;241;43m=\u001b[39;49m\u001b[43mcancellation_manager\u001b[49m\u001b[43m)\u001b[49m)\n\u001b[0;32m   1864\u001b[0m forward_backward \u001b[38;5;241m=\u001b[39m \u001b[38;5;28mself\u001b[39m\u001b[38;5;241m.\u001b[39m_select_forward_and_backward_functions(\n\u001b[0;32m   1865\u001b[0m     args,\n\u001b[0;32m   1866\u001b[0m     possible_gradient_type,\n\u001b[0;32m   1867\u001b[0m     executing_eagerly)\n\u001b[0;32m   1868\u001b[0m forward_function, args_with_tangents \u001b[38;5;241m=\u001b[39m forward_backward\u001b[38;5;241m.\u001b[39mforward()\n",
      "File \u001b[1;32m~\\anaconda3\\lib\\site-packages\\tensorflow\\python\\eager\\function.py:499\u001b[0m, in \u001b[0;36m_EagerDefinedFunction.call\u001b[1;34m(self, ctx, args, cancellation_manager)\u001b[0m\n\u001b[0;32m    497\u001b[0m \u001b[38;5;28;01mwith\u001b[39;00m _InterpolateFunctionError(\u001b[38;5;28mself\u001b[39m):\n\u001b[0;32m    498\u001b[0m   \u001b[38;5;28;01mif\u001b[39;00m cancellation_manager \u001b[38;5;129;01mis\u001b[39;00m \u001b[38;5;28;01mNone\u001b[39;00m:\n\u001b[1;32m--> 499\u001b[0m     outputs \u001b[38;5;241m=\u001b[39m \u001b[43mexecute\u001b[49m\u001b[38;5;241;43m.\u001b[39;49m\u001b[43mexecute\u001b[49m\u001b[43m(\u001b[49m\n\u001b[0;32m    500\u001b[0m \u001b[43m        \u001b[49m\u001b[38;5;28;43mstr\u001b[39;49m\u001b[43m(\u001b[49m\u001b[38;5;28;43mself\u001b[39;49m\u001b[38;5;241;43m.\u001b[39;49m\u001b[43msignature\u001b[49m\u001b[38;5;241;43m.\u001b[39;49m\u001b[43mname\u001b[49m\u001b[43m)\u001b[49m\u001b[43m,\u001b[49m\n\u001b[0;32m    501\u001b[0m \u001b[43m        \u001b[49m\u001b[43mnum_outputs\u001b[49m\u001b[38;5;241;43m=\u001b[39;49m\u001b[38;5;28;43mself\u001b[39;49m\u001b[38;5;241;43m.\u001b[39;49m\u001b[43m_num_outputs\u001b[49m\u001b[43m,\u001b[49m\n\u001b[0;32m    502\u001b[0m \u001b[43m        \u001b[49m\u001b[43minputs\u001b[49m\u001b[38;5;241;43m=\u001b[39;49m\u001b[43margs\u001b[49m\u001b[43m,\u001b[49m\n\u001b[0;32m    503\u001b[0m \u001b[43m        \u001b[49m\u001b[43mattrs\u001b[49m\u001b[38;5;241;43m=\u001b[39;49m\u001b[43mattrs\u001b[49m\u001b[43m,\u001b[49m\n\u001b[0;32m    504\u001b[0m \u001b[43m        \u001b[49m\u001b[43mctx\u001b[49m\u001b[38;5;241;43m=\u001b[39;49m\u001b[43mctx\u001b[49m\u001b[43m)\u001b[49m\n\u001b[0;32m    505\u001b[0m   \u001b[38;5;28;01melse\u001b[39;00m:\n\u001b[0;32m    506\u001b[0m     outputs \u001b[38;5;241m=\u001b[39m execute\u001b[38;5;241m.\u001b[39mexecute_with_cancellation(\n\u001b[0;32m    507\u001b[0m         \u001b[38;5;28mstr\u001b[39m(\u001b[38;5;28mself\u001b[39m\u001b[38;5;241m.\u001b[39msignature\u001b[38;5;241m.\u001b[39mname),\n\u001b[0;32m    508\u001b[0m         num_outputs\u001b[38;5;241m=\u001b[39m\u001b[38;5;28mself\u001b[39m\u001b[38;5;241m.\u001b[39m_num_outputs,\n\u001b[1;32m   (...)\u001b[0m\n\u001b[0;32m    511\u001b[0m         ctx\u001b[38;5;241m=\u001b[39mctx,\n\u001b[0;32m    512\u001b[0m         cancellation_manager\u001b[38;5;241m=\u001b[39mcancellation_manager)\n",
      "File \u001b[1;32m~\\anaconda3\\lib\\site-packages\\tensorflow\\python\\eager\\execute.py:54\u001b[0m, in \u001b[0;36mquick_execute\u001b[1;34m(op_name, num_outputs, inputs, attrs, ctx, name)\u001b[0m\n\u001b[0;32m     52\u001b[0m \u001b[38;5;28;01mtry\u001b[39;00m:\n\u001b[0;32m     53\u001b[0m   ctx\u001b[38;5;241m.\u001b[39mensure_initialized()\n\u001b[1;32m---> 54\u001b[0m   tensors \u001b[38;5;241m=\u001b[39m \u001b[43mpywrap_tfe\u001b[49m\u001b[38;5;241;43m.\u001b[39;49m\u001b[43mTFE_Py_Execute\u001b[49m\u001b[43m(\u001b[49m\u001b[43mctx\u001b[49m\u001b[38;5;241;43m.\u001b[39;49m\u001b[43m_handle\u001b[49m\u001b[43m,\u001b[49m\u001b[43m \u001b[49m\u001b[43mdevice_name\u001b[49m\u001b[43m,\u001b[49m\u001b[43m \u001b[49m\u001b[43mop_name\u001b[49m\u001b[43m,\u001b[49m\n\u001b[0;32m     55\u001b[0m \u001b[43m                                      \u001b[49m\u001b[43minputs\u001b[49m\u001b[43m,\u001b[49m\u001b[43m \u001b[49m\u001b[43mattrs\u001b[49m\u001b[43m,\u001b[49m\u001b[43m \u001b[49m\u001b[43mnum_outputs\u001b[49m\u001b[43m)\u001b[49m\n\u001b[0;32m     56\u001b[0m \u001b[38;5;28;01mexcept\u001b[39;00m core\u001b[38;5;241m.\u001b[39m_NotOkStatusException \u001b[38;5;28;01mas\u001b[39;00m e:\n\u001b[0;32m     57\u001b[0m   \u001b[38;5;28;01mif\u001b[39;00m name \u001b[38;5;129;01mis\u001b[39;00m \u001b[38;5;129;01mnot\u001b[39;00m \u001b[38;5;28;01mNone\u001b[39;00m:\n",
      "\u001b[1;31mKeyboardInterrupt\u001b[0m: "
     ]
    }
   ],
   "source": [
    "model.fit(train_ds, epochs=30)"
   ]
  },
  {
   "cell_type": "markdown",
   "id": "5fd9c364",
   "metadata": {},
   "source": [
    "### 98.52 for VGG16 for avg pooling at 14th epoch\n",
    "### 98.34 for VGG16 for max pooling"
   ]
  },
  {
   "cell_type": "code",
   "execution_count": 37,
   "id": "2cff3eae",
   "metadata": {},
   "outputs": [
    {
     "name": "stdout",
     "output_type": "stream",
     "text": [
      "Downloading data from https://storage.googleapis.com/tensorflow/keras-applications/efficientnet_v2/efficientnetv2-b0_notop.h5\n",
      "24274472/24274472 [==============================] - 41s 2us/step\n"
     ]
    }
   ],
   "source": [
    "EfficientNet = keras.applications.EfficientNetV2B0(\n",
    "               include_top = False, input_shape = (256, 256, 3), pooling = 'max')"
   ]
  },
  {
   "cell_type": "code",
   "execution_count": 38,
   "id": "a8b31e4c",
   "metadata": {},
   "outputs": [
    {
     "name": "stdout",
     "output_type": "stream",
     "text": [
      "Model: \"sequential_4\"\n",
      "_________________________________________________________________\n",
      " Layer (type)                Output Shape              Param #   \n",
      "=================================================================\n",
      " efficientnetv2-b0 (Function  (None, 1280)             5919312   \n",
      " al)                                                             \n",
      "                                                                 \n",
      " flatten_4 (Flatten)         (None, 1280)              0         \n",
      "                                                                 \n",
      " dense_16 (Dense)            (None, 512)               655872    \n",
      "                                                                 \n",
      " dense_17 (Dense)            (None, 128)               65664     \n",
      "                                                                 \n",
      " dense_18 (Dense)            (None, 32)                4128      \n",
      "                                                                 \n",
      " dense_19 (Dense)            (None, 4)                 132       \n",
      "                                                                 \n",
      "=================================================================\n",
      "Total params: 6,645,108\n",
      "Trainable params: 725,796\n",
      "Non-trainable params: 5,919,312\n",
      "_________________________________________________________________\n"
     ]
    }
   ],
   "source": [
    "model1 = keras.models.Sequential()\n",
    "for layer in EfficientNet.layers:\n",
    "    layer.trainable = False\n",
    "\n",
    "model1.add(EfficientNet)\n",
    "model1.add(Flatten())\n",
    "model1.add(Dense(512,activation='relu',kernel_initializer='he_uniform'))\n",
    "model1.add(Dense(128,activation='relu',kernel_initializer='he_uniform'))\n",
    "model1.add(Dense(32,activation='relu',kernel_initializer='he_uniform'))\n",
    "model1.add(Dense(4,activation='softmax'))\n",
    "\n",
    "model1.summary()"
   ]
  },
  {
   "cell_type": "code",
   "execution_count": 39,
   "id": "29274df0",
   "metadata": {},
   "outputs": [],
   "source": [
    "model1.compile(optimizer=tf.keras.optimizers.Adam(learning_rate=1e-3),\n",
    "              loss=tf.keras.losses.CategoricalCrossentropy(),\n",
    "              metrics=METRICS)"
   ]
  },
  {
   "cell_type": "code",
   "execution_count": 40,
   "id": "fc59de77",
   "metadata": {},
   "outputs": [
    {
     "name": "stdout",
     "output_type": "stream",
     "text": [
      "Epoch 1/50\n",
      "161/161 [==============================] - 27s 119ms/step - loss: 1.1975 - accuracy: 0.8135 - precision: 0.6606 - recall: 0.5222 - auc: 0.8591\n",
      "Epoch 2/50\n",
      "161/161 [==============================] - 19s 115ms/step - loss: 0.9387 - accuracy: 0.7904 - precision: 0.6284 - recall: 0.3956 - auc: 0.8335\n",
      "Epoch 3/50\n",
      "161/161 [==============================] - 19s 115ms/step - loss: 0.8927 - accuracy: 0.7983 - precision: 0.6488 - recall: 0.4214 - auc: 0.8478\n",
      "Epoch 4/50\n",
      "161/161 [==============================] - 19s 115ms/step - loss: 0.8625 - accuracy: 0.8067 - precision: 0.6726 - recall: 0.4417 - auc: 0.8585\n",
      "Epoch 5/50\n",
      "161/161 [==============================] - 19s 116ms/step - loss: 0.8125 - accuracy: 0.8178 - precision: 0.6928 - recall: 0.4874 - auc: 0.8754\n",
      "Epoch 6/50\n",
      "161/161 [==============================] - 19s 116ms/step - loss: 0.8415 - accuracy: 0.8113 - precision: 0.6714 - recall: 0.4804 - auc: 0.8656\n",
      "Epoch 7/50\n",
      "161/161 [==============================] - 19s 118ms/step - loss: 0.8027 - accuracy: 0.8173 - precision: 0.6814 - recall: 0.5054 - auc: 0.8771\n",
      "Epoch 8/50\n",
      "161/161 [==============================] - 19s 116ms/step - loss: 0.7748 - accuracy: 0.8283 - precision: 0.7089 - recall: 0.5311 - auc: 0.8877\n",
      "Epoch 9/50\n",
      "161/161 [==============================] - 19s 120ms/step - loss: 0.7573 - accuracy: 0.8285 - precision: 0.6992 - recall: 0.5511 - auc: 0.8909\n",
      "Epoch 10/50\n",
      "161/161 [==============================] - 19s 119ms/step - loss: 0.7359 - accuracy: 0.8361 - precision: 0.7126 - recall: 0.5770 - auc: 0.8986\n",
      "Epoch 11/50\n",
      "161/161 [==============================] - 20s 121ms/step - loss: 0.7326 - accuracy: 0.8389 - precision: 0.7164 - recall: 0.5886 - auc: 0.8996\n",
      "Epoch 12/50\n",
      "161/161 [==============================] - 20s 121ms/step - loss: 0.7421 - accuracy: 0.8373 - precision: 0.7160 - recall: 0.5790 - auc: 0.8970\n",
      "Epoch 13/50\n",
      "161/161 [==============================] - 20s 121ms/step - loss: 0.7042 - accuracy: 0.8465 - precision: 0.7341 - recall: 0.6050 - auc: 0.9082\n",
      "Epoch 14/50\n",
      "161/161 [==============================] - 19s 118ms/step - loss: 0.6813 - accuracy: 0.8495 - precision: 0.7329 - recall: 0.6262 - auc: 0.9136\n",
      "Epoch 15/50\n",
      "161/161 [==============================] - 19s 116ms/step - loss: 0.7583 - accuracy: 0.8362 - precision: 0.7181 - recall: 0.5675 - auc: 0.8951\n",
      "Epoch 16/50\n",
      "161/161 [==============================] - 19s 116ms/step - loss: 0.6735 - accuracy: 0.8548 - precision: 0.7451 - recall: 0.6372 - auc: 0.9166\n",
      "Epoch 17/50\n",
      "161/161 [==============================] - 19s 116ms/step - loss: 0.6600 - accuracy: 0.8537 - precision: 0.7380 - recall: 0.6430 - auc: 0.9192\n",
      "Epoch 18/50\n",
      "161/161 [==============================] - 19s 119ms/step - loss: 0.6420 - accuracy: 0.8611 - precision: 0.7541 - recall: 0.6594 - auc: 0.9237\n",
      "Epoch 19/50\n",
      "161/161 [==============================] - 19s 119ms/step - loss: 0.6272 - accuracy: 0.8635 - precision: 0.7554 - recall: 0.6714 - auc: 0.9276\n",
      "Epoch 20/50\n",
      "161/161 [==============================] - 19s 119ms/step - loss: 0.6121 - accuracy: 0.8678 - precision: 0.7643 - recall: 0.6815 - auc: 0.9302\n",
      "Epoch 21/50\n",
      "161/161 [==============================] - 19s 119ms/step - loss: 0.6001 - accuracy: 0.8727 - precision: 0.7715 - recall: 0.6975 - auc: 0.9336\n",
      "Epoch 22/50\n",
      "161/161 [==============================] - 19s 118ms/step - loss: 0.5670 - accuracy: 0.8765 - precision: 0.7770 - recall: 0.7096 - auc: 0.9405\n",
      "Epoch 23/50\n",
      "161/161 [==============================] - 19s 116ms/step - loss: 0.5622 - accuracy: 0.8801 - precision: 0.7842 - recall: 0.7180 - auc: 0.9415\n",
      "Epoch 24/50\n",
      "161/161 [==============================] - 19s 116ms/step - loss: 0.5467 - accuracy: 0.8818 - precision: 0.7857 - recall: 0.7247 - auc: 0.9449\n",
      "Epoch 25/50\n",
      "161/161 [==============================] - 19s 117ms/step - loss: 0.5403 - accuracy: 0.8844 - precision: 0.7910 - recall: 0.7307 - auc: 0.9460\n",
      "Epoch 26/50\n",
      "161/161 [==============================] - 19s 117ms/step - loss: 0.5379 - accuracy: 0.8836 - precision: 0.7885 - recall: 0.7301 - auc: 0.9465\n",
      "Epoch 27/50\n",
      "161/161 [==============================] - 19s 117ms/step - loss: 0.5548 - accuracy: 0.8807 - precision: 0.7823 - recall: 0.7243 - auc: 0.9431\n",
      "Epoch 28/50\n",
      "161/161 [==============================] - 20s 120ms/step - loss: 0.5291 - accuracy: 0.8871 - precision: 0.7956 - recall: 0.7379 - auc: 0.9485\n",
      "Epoch 29/50\n",
      "161/161 [==============================] - 20s 120ms/step - loss: 0.5026 - accuracy: 0.8922 - precision: 0.8041 - recall: 0.7520 - auc: 0.9532\n",
      "Epoch 30/50\n",
      "161/161 [==============================] - 20s 121ms/step - loss: 0.5876 - accuracy: 0.8783 - precision: 0.7802 - recall: 0.7145 - auc: 0.9372\n",
      "Epoch 31/50\n",
      "161/161 [==============================] - 20s 121ms/step - loss: 0.4935 - accuracy: 0.8937 - precision: 0.8052 - recall: 0.7581 - auc: 0.9550\n",
      "Epoch 32/50\n",
      "161/161 [==============================] - 19s 117ms/step - loss: 0.5124 - accuracy: 0.8926 - precision: 0.8051 - recall: 0.7528 - auc: 0.9512\n",
      "Epoch 33/50\n",
      "161/161 [==============================] - 19s 117ms/step - loss: 0.4735 - accuracy: 0.8977 - precision: 0.8128 - recall: 0.7674 - auc: 0.9587\n",
      "Epoch 34/50\n",
      "161/161 [==============================] - 19s 120ms/step - loss: 0.4768 - accuracy: 0.9003 - precision: 0.8164 - recall: 0.7754 - auc: 0.9579\n",
      "Epoch 35/50\n",
      "161/161 [==============================] - 19s 120ms/step - loss: 0.4706 - accuracy: 0.9026 - precision: 0.8239 - recall: 0.7764 - auc: 0.9590\n",
      "Epoch 36/50\n",
      "161/161 [==============================] - 19s 118ms/step - loss: 0.4719 - accuracy: 0.9013 - precision: 0.8181 - recall: 0.7782 - auc: 0.9590\n",
      "Epoch 37/50\n",
      "161/161 [==============================] - 19s 118ms/step - loss: 0.4492 - accuracy: 0.9050 - precision: 0.8250 - recall: 0.7870 - auc: 0.9627\n",
      "Epoch 38/50\n",
      "161/161 [==============================] - 19s 117ms/step - loss: 0.4675 - accuracy: 0.9017 - precision: 0.8188 - recall: 0.7791 - auc: 0.9600\n",
      "Epoch 39/50\n",
      "161/161 [==============================] - 19s 117ms/step - loss: 0.4494 - accuracy: 0.9051 - precision: 0.8251 - recall: 0.7875 - auc: 0.9627\n",
      "Epoch 40/50\n",
      "161/161 [==============================] - 19s 119ms/step - loss: 0.4636 - accuracy: 0.9027 - precision: 0.8207 - recall: 0.7813 - auc: 0.9603\n",
      "Epoch 41/50\n",
      "161/161 [==============================] - 20s 120ms/step - loss: 0.4165 - accuracy: 0.9118 - precision: 0.8365 - recall: 0.8045 - auc: 0.9679\n",
      "Epoch 42/50\n",
      "161/161 [==============================] - 19s 119ms/step - loss: 0.4066 - accuracy: 0.9184 - precision: 0.8489 - recall: 0.8194 - auc: 0.9694\n",
      "Epoch 43/50\n",
      "161/161 [==============================] - 19s 120ms/step - loss: 0.4289 - accuracy: 0.9121 - precision: 0.8363 - recall: 0.8063 - auc: 0.9662\n",
      "Epoch 44/50\n",
      "161/161 [==============================] - 19s 120ms/step - loss: 0.4901 - accuracy: 0.8985 - precision: 0.8118 - recall: 0.7731 - auc: 0.9556\n",
      "Epoch 45/50\n",
      "161/161 [==============================] - 19s 118ms/step - loss: 0.4363 - accuracy: 0.9083 - precision: 0.8317 - recall: 0.7940 - auc: 0.9645\n",
      "Epoch 46/50\n",
      "161/161 [==============================] - 19s 117ms/step - loss: 0.4942 - accuracy: 0.8982 - precision: 0.8162 - recall: 0.7649 - auc: 0.9556\n",
      "Epoch 47/50\n",
      "161/161 [==============================] - 19s 120ms/step - loss: 0.4219 - accuracy: 0.9101 - precision: 0.8331 - recall: 0.8010 - auc: 0.9667\n",
      "Epoch 48/50\n",
      "161/161 [==============================] - 20s 121ms/step - loss: 0.4445 - accuracy: 0.9082 - precision: 0.8303 - recall: 0.7952 - auc: 0.9633\n",
      "Epoch 49/50\n",
      "161/161 [==============================] - 20s 123ms/step - loss: 0.4201 - accuracy: 0.9152 - precision: 0.8443 - recall: 0.8102 - auc: 0.9673\n",
      "Epoch 50/50\n",
      "161/161 [==============================] - 20s 121ms/step - loss: 0.4172 - accuracy: 0.9115 - precision: 0.8363 - recall: 0.8034 - auc: 0.9675\n"
     ]
    },
    {
     "data": {
      "text/plain": [
       "<keras.callbacks.History at 0x14fe12711f0>"
      ]
     },
     "execution_count": 40,
     "metadata": {},
     "output_type": "execute_result"
    }
   ],
   "source": [
    "model1.fit(train_ds, epochs = 50)"
   ]
  },
  {
   "cell_type": "markdown",
   "id": "1c78789e",
   "metadata": {},
   "source": [
    "### 91.15 for Efficient Net"
   ]
  }
 ],
 "metadata": {
  "kernelspec": {
   "display_name": "Python 3 (ipykernel)",
   "language": "python",
   "name": "python3"
  },
  "language_info": {
   "codemirror_mode": {
    "name": "ipython",
    "version": 3
   },
   "file_extension": ".py",
   "mimetype": "text/x-python",
   "name": "python",
   "nbconvert_exporter": "python",
   "pygments_lexer": "ipython3",
   "version": "3.9.12"
  }
 },
 "nbformat": 4,
 "nbformat_minor": 5
}
